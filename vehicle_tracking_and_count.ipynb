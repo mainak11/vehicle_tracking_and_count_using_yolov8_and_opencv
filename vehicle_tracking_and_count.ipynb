{
  "nbformat": 4,
  "nbformat_minor": 0,
  "metadata": {
    "colab": {
      "provenance": []
    },
    "kernelspec": {
      "name": "python3",
      "display_name": "Python 3"
    },
    "language_info": {
      "name": "python"
    }
  },
  "cells": [
    {
      "cell_type": "code",
      "execution_count": null,
      "metadata": {
        "id": "vbTq6MiANUMN"
      },
      "outputs": [],
      "source": [
        "# !pip install ultralytics, opencv-python"
      ]
    },
    {
      "cell_type": "code",
      "source": [
        "from ultralytics import YOLO\n",
        "import cv2"
      ],
      "metadata": {
        "id": "B_7L426ENrb4"
      },
      "execution_count": null,
      "outputs": []
    },
    {
      "cell_type": "markdown",
      "source": [
        "#***Vehicle count for one way road***"
      ],
      "metadata": {
        "id": "1VViKi6JOByk"
      }
    },
    {
      "cell_type": "code",
      "source": [
        "vid = cv2.VideoCapture(\"traffic_vid.mp4\")\n",
        "model = YOLO('yolov8n.pt')\n",
        "width = int(vid.get(cv2.CAP_PROP_FRAME_WIDTH))\n",
        "height = int(vid.get(cv2.CAP_PROP_FRAME_HEIGHT))\n",
        "fps = int(vid.get(cv2.CAP_PROP_FPS))\n",
        "codec = cv2.VideoWriter_fourcc(*'XVID')\n",
        "out = cv2.VideoWriter('traffic_vid_result.avi', codec, fps, (1280, 720))\n",
        "\n",
        "inx1,iny1,inx2,iny2 = 0, 450, 1280, 480\n",
        "count = 0\n",
        "in_ids = []\n",
        "while True:\n",
        "\n",
        "    return_value, img = vid.read()\n",
        "    if return_value:\n",
        "        img = cv2.resize(img, (1280, 720))\n",
        "    else:\n",
        "        print('Video has ended or failed, try a different video format!')\n",
        "        break\n",
        "    results = model.track(img,persist=True,classes=[2])\n",
        "    frame= results[0]\n",
        "    image = frame.orig_img\n",
        "    corrs = frame.boxes.xyxy.tolist()\n",
        "    if results[0].boxes.id == None:\n",
        "      ids = [0]\n",
        "    else:\n",
        "      ids = results[0].boxes.id.cpu().numpy().astype(int)\n",
        "    for cor, id in zip(corrs, ids):\n",
        "        center_point = [int((int(cor[0])+int(cor[2]))/2),int((int(cor[1])+int(cor[3]))/2)]\n",
        "        cv2.rectangle(image, (int(cor[0]),int(cor[1])),(int(cor[2]),int(cor[3])), (255,211,67), 2)\n",
        "        cv2.rectangle(image, (int(cor[0]),int(cor[1])-30), (int(cor[0])+110,int(cor[1])), (255,211,67), -1)\n",
        "        cv2.putText(image,f\"#Id:{id}\",(int(cor[0]),int(cor[1])-5),cv2.FONT_HERSHEY_PLAIN,2,(0, 0, 0),2)\n",
        "        if center_point[1]>500:\n",
        "          # print(in_ids)\n",
        "          # print(id)\n",
        "          if id not in in_ids:\n",
        "            count += 1\n",
        "            in_ids.append(id)\n",
        "        cv2.line(image, (0,500),(1280,500), (255,255,255), 2)\n",
        "        cv2.rectangle(image, (30,30), (320,90), (255,211,67), -1)\n",
        "        cv2.circle(image,(320,60) , 30, (255,211,67), -1)\n",
        "        cv2.circle(image, (30,60), 30, (255,211,67), -1)\n",
        "        cv2.putText(image,'entry:'+str(count), (50,75), cv2.FONT_HERSHEY_PLAIN, 4, (0,0,0),3)\n",
        "\n",
        "    out.write(img)\n",
        "    # cv2.imshow(\"Image\", image)\n",
        "    if cv2.waitKey(25) & 0xFF == ord('q'):\n",
        "            break\n",
        "vid.release()\n",
        "# cv2.destroyAllWindows()\n",
        "out.release()"
      ],
      "metadata": {
        "id": "gSMpsdG9N96w"
      },
      "execution_count": null,
      "outputs": []
    },
    {
      "cell_type": "markdown",
      "source": [
        "# **Vehicle count for two way road**"
      ],
      "metadata": {
        "id": "lWTeTaXbOX9c"
      }
    },
    {
      "cell_type": "code",
      "source": [
        "vid = cv2.VideoCapture(\"vehicle-counting.mp4\")\n",
        "model = YOLO('yolov8n.pt')\n",
        "width = int(vid.get(cv2.CAP_PROP_FRAME_WIDTH))\n",
        "height = int(vid.get(cv2.CAP_PROP_FRAME_HEIGHT))\n",
        "fps = int(vid.get(cv2.CAP_PROP_FPS))\n",
        "codec = cv2.VideoWriter_fourcc(*'XVID')\n",
        "out = cv2.VideoWriter('vehicle-count_result.avi', codec, fps, (width, height))\n",
        "\n",
        "# inx1,iny1,inx2,iny2 = 0, 450, 1280, 480\n",
        "count = 0\n",
        "count_out = 0\n",
        "in_ids = []\n",
        "out_ids = []\n",
        "while True:\n",
        "\n",
        "    return_value, img = vid.read()\n",
        "    if return_value:\n",
        "        img = cv2.cvtColor(img, cv2.COLOR_BGR2RGB)\n",
        "#         frame_num += 1\n",
        "        img = cv2.resize(img, (width, height))\n",
        "    else:\n",
        "        print('Video has ended or failed, try a different video format!')\n",
        "        break\n",
        "    results = model.track(img,persist=True,classes=[2,7])\n",
        "    frame= results[0]\n",
        "    image = frame.orig_img\n",
        "    corrs = frame.boxes.xyxy.tolist()\n",
        "    # boxes = frame.boxes.xyxy.tolist()\n",
        "    if results[0].boxes.id == None:\n",
        "      ids = [0]\n",
        "    else:\n",
        "      ids = results[0].boxes.id.cpu().numpy().astype(int)\n",
        "    for cor, id in zip(corrs, ids):\n",
        "        center_point = [int((int(cor[0])+int(cor[2]))/2),int((int(cor[1])+int(cor[3]))/2)]\n",
        "        cv2.rectangle(image, (int(cor[0]),int(cor[1])),(int(cor[2]),int(cor[3])), (255,211,67), 2)\n",
        "        cv2.rectangle(image, (int(cor[0]),int(cor[1])-30), (int(cor[0])+110,int(cor[1])), (255,211,67), -1)\n",
        "        cv2.putText(image,f\"#Id:{id}\",(int(cor[0]),int(cor[1])-5),cv2.FONT_HERSHEY_PLAIN,2,(0, 0, 0),2)\n",
        "        if center_point[1]>1500 and center_point[0]<2000:\n",
        "          # print(in_ids)\n",
        "          # print(id)\n",
        "          if id not in in_ids:\n",
        "            count += 1\n",
        "            in_ids.append(id)\n",
        "        cv2.line(image, (0,1500),(3840,1500), (255,255,255), 2)\n",
        "\n",
        "        if center_point[1]<1500 and center_point[0]>2000:\n",
        "          # print(in_ids)\n",
        "          # print(id)\n",
        "          if id not in out_ids:\n",
        "            count_out += 1\n",
        "            out_ids.append(id)\n",
        "\n",
        "        cv2.rectangle(image, (100,50), (600,150), (100,255,10), -1)\n",
        "        cv2.circle(image,(600,100) , 50, (100,255,10), -1)\n",
        "        cv2.circle(image, (100,100), 50, (100,255,10), -1)\n",
        "        cv2.putText(image,'entry: '+str(count), (100,125), cv2.FONT_HERSHEY_PLAIN, 6, (0,0,0),3)\n",
        "\n",
        "        cv2.rectangle(image, (100,200), (600,300), (255,30,10), -1)\n",
        "        cv2.circle(image,(600,250) , 50, (255,30,10), -1)\n",
        "        cv2.circle(image, (100,250), 50, (255,30,10), -1)\n",
        "        cv2.putText(image,'exit: '+str(count_out), (100,275), cv2.FONT_HERSHEY_PLAIN, 6, (0,0,0),3)\n",
        "\n",
        "    out.write(cv2.cvtColor(image, cv2.COLOR_BGR2RGB))\n",
        "    # cv2.imshow(\"Image\", image)\n",
        "    if cv2.waitKey(25) & 0xFF == ord('q'):\n",
        "            break\n",
        "vid.release()\n",
        "# cv2.destroyAllWindows()\n",
        "out.release()"
      ],
      "metadata": {
        "id": "cisCKKBYN0ZX"
      },
      "execution_count": null,
      "outputs": []
    }
  ]
}